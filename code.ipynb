{
 "cells": [
  {
   "cell_type": "code",
   "execution_count": 5,
   "metadata": {},
   "outputs": [],
   "source": [
    "import pandas as pd \n",
    "import numpy as np\n",
    "import matplotlib.pyplot as plt"
   ]
  },
  {
   "cell_type": "markdown",
   "metadata": {},
   "source": [
    "### **Dictionnaire des variables de la base *Véhicules***\n",
    "* ***Num_Acc :*** identifiant de l'accident\n",
    "* ***id_vehicule :*** identifiant unique du véhicule code numérique\n",
    "* ***num_veh :*** identifiant du véhicule code alphanumérique\n",
    "* ***senc :*** Sens de circulation\n",
    "* ***catv :*** Catégorie du véhciule\n",
    "* ***obs :*** Obstacle fixe heurté\n",
    "* ***obsm :*** Obstacle mobile heurté\n",
    "* ***choc :*** Point de choc initial\n",
    "* ***manv :*** Manoeuvre principal avant l'accident\n",
    "* ***motor :*** Type de motorisation du véhicule\n",
    "* ***occutc :*** Nombre d'occupants dans le transport en commun"
   ]
  },
  {
   "cell_type": "markdown",
   "metadata": {},
   "source": [
    "### **Dictionnaire des variables de la base *Usagers***\n",
    "\n",
    "* ***Num_Acc :*** identifiant de l'usager code numérique\n",
    "* ***id_usager :*** identifiant unique du véhicule code numérique\n",
    "* ***id_vehicule :*** identifiant unique du véhicule code numérique\n",
    "* ***num_veh :*** identifiant du véhicule code alphanumérique\n",
    "* ***place :*** Pour situer la place occupée dans le véhicule par l'usager au moment de l'accident.\n",
    "* ***catu :*** Catégorie d'usager\n",
    "* ***grav :*** Gravité de blessure de l'usager\n",
    "* ***sexe :*** Sexe de l'usager\n",
    "* ***An_nais :*** Année de naissance de l'usager\n",
    "* ***trajet :*** Motif du déplaement au moment de l'accident\n",
    "* ***secu1 :*** Le renseignement du caractère indique la présence et l’utilisation de l’équipement de sécurité\n",
    "* ***secu2 :*** Le renseignement du caractère indique la présence et l’utilisation de l’équipement de sécurité\n",
    "* ***secu3 :*** Le renseignement du caractère indique la présence et l’utilisation de l’équipement de sécurité\n",
    "* ***Iocp :*** Localisation du piéton\n",
    "* ***actp :*** Action du piéton\n",
    "* ***etatp :*** Cette variable permet de préciser si le piéton accidenté était seul ou non"
   ]
  },
  {
   "cell_type": "code",
   "execution_count": 17,
   "metadata": {},
   "outputs": [],
   "source": [
    "#pip install matplotlib"
   ]
  },
  {
   "cell_type": "code",
   "execution_count": 13,
   "metadata": {},
   "outputs": [
    {
     "data": {
      "text/html": [
       "<div>\n",
       "<style scoped>\n",
       "    .dataframe tbody tr th:only-of-type {\n",
       "        vertical-align: middle;\n",
       "    }\n",
       "\n",
       "    .dataframe tbody tr th {\n",
       "        vertical-align: top;\n",
       "    }\n",
       "\n",
       "    .dataframe thead th {\n",
       "        text-align: right;\n",
       "    }\n",
       "</style>\n",
       "<table border=\"1\" class=\"dataframe\">\n",
       "  <thead>\n",
       "    <tr style=\"text-align: right;\">\n",
       "      <th></th>\n",
       "      <th>Num_Acc</th>\n",
       "      <th>id_usager</th>\n",
       "      <th>id_vehicule</th>\n",
       "      <th>num_veh</th>\n",
       "      <th>place</th>\n",
       "      <th>catu</th>\n",
       "      <th>grav</th>\n",
       "      <th>sexe</th>\n",
       "      <th>an_nais</th>\n",
       "      <th>trajet</th>\n",
       "      <th>secu1</th>\n",
       "      <th>secu2</th>\n",
       "      <th>secu3</th>\n",
       "      <th>locp</th>\n",
       "      <th>actp</th>\n",
       "      <th>etatp</th>\n",
       "    </tr>\n",
       "  </thead>\n",
       "  <tbody>\n",
       "    <tr>\n",
       "      <th>0</th>\n",
       "      <td>202300000001</td>\n",
       "      <td>203 851 184</td>\n",
       "      <td>155 680 557</td>\n",
       "      <td>A01</td>\n",
       "      <td>1</td>\n",
       "      <td>1</td>\n",
       "      <td>4</td>\n",
       "      <td>1</td>\n",
       "      <td>1978.0</td>\n",
       "      <td>5</td>\n",
       "      <td>2</td>\n",
       "      <td>0</td>\n",
       "      <td>-1</td>\n",
       "      <td>-1</td>\n",
       "      <td>-1</td>\n",
       "      <td>-1</td>\n",
       "    </tr>\n",
       "    <tr>\n",
       "      <th>1</th>\n",
       "      <td>202300000002</td>\n",
       "      <td>203 851 182</td>\n",
       "      <td>155 680 556</td>\n",
       "      <td>A01</td>\n",
       "      <td>1</td>\n",
       "      <td>1</td>\n",
       "      <td>1</td>\n",
       "      <td>2</td>\n",
       "      <td>1997.0</td>\n",
       "      <td>9</td>\n",
       "      <td>1</td>\n",
       "      <td>0</td>\n",
       "      <td>-1</td>\n",
       "      <td>-1</td>\n",
       "      <td>-1</td>\n",
       "      <td>-1</td>\n",
       "    </tr>\n",
       "  </tbody>\n",
       "</table>\n",
       "</div>"
      ],
      "text/plain": [
       "        Num_Acc    id_usager  id_vehicule num_veh  place  catu  grav  sexe  \\\n",
       "0  202300000001  203 851 184  155 680 557     A01      1     1     4     1   \n",
       "1  202300000002  203 851 182  155 680 556     A01      1     1     1     2   \n",
       "\n",
       "   an_nais  trajet  secu1  secu2  secu3  locp actp  etatp  \n",
       "0   1978.0       5      2      0     -1    -1   -1     -1  \n",
       "1   1997.0       9      1      0     -1    -1   -1     -1  "
      ]
     },
     "execution_count": 13,
     "metadata": {},
     "output_type": "execute_result"
    }
   ],
   "source": [
    "df_usag = pd.read_csv(\"usagers.csv\", delimiter=\";\")\n",
    "df_usag.head(2)"
   ]
  },
  {
   "cell_type": "code",
   "execution_count": 12,
   "metadata": {},
   "outputs": [
    {
     "data": {
      "text/html": [
       "<div>\n",
       "<style scoped>\n",
       "    .dataframe tbody tr th:only-of-type {\n",
       "        vertical-align: middle;\n",
       "    }\n",
       "\n",
       "    .dataframe tbody tr th {\n",
       "        vertical-align: top;\n",
       "    }\n",
       "\n",
       "    .dataframe thead th {\n",
       "        text-align: right;\n",
       "    }\n",
       "</style>\n",
       "<table border=\"1\" class=\"dataframe\">\n",
       "  <thead>\n",
       "    <tr style=\"text-align: right;\">\n",
       "      <th></th>\n",
       "      <th>Num_Acc</th>\n",
       "      <th>id_vehicule</th>\n",
       "      <th>num_veh</th>\n",
       "      <th>senc</th>\n",
       "      <th>catv</th>\n",
       "      <th>obs</th>\n",
       "      <th>obsm</th>\n",
       "      <th>choc</th>\n",
       "      <th>manv</th>\n",
       "      <th>motor</th>\n",
       "      <th>occutc</th>\n",
       "    </tr>\n",
       "  </thead>\n",
       "  <tbody>\n",
       "    <tr>\n",
       "      <th>0</th>\n",
       "      <td>202300000001</td>\n",
       "      <td>155 680 557</td>\n",
       "      <td>A01</td>\n",
       "      <td>1</td>\n",
       "      <td>30</td>\n",
       "      <td>0</td>\n",
       "      <td>0</td>\n",
       "      <td>5</td>\n",
       "      <td>1</td>\n",
       "      <td>1</td>\n",
       "      <td>NaN</td>\n",
       "    </tr>\n",
       "    <tr>\n",
       "      <th>1</th>\n",
       "      <td>202300000002</td>\n",
       "      <td>155 680 556</td>\n",
       "      <td>A01</td>\n",
       "      <td>2</td>\n",
       "      <td>7</td>\n",
       "      <td>0</td>\n",
       "      <td>1</td>\n",
       "      <td>1</td>\n",
       "      <td>1</td>\n",
       "      <td>1</td>\n",
       "      <td>NaN</td>\n",
       "    </tr>\n",
       "  </tbody>\n",
       "</table>\n",
       "</div>"
      ],
      "text/plain": [
       "        Num_Acc  id_vehicule num_veh  senc  catv  obs  obsm  choc  manv  \\\n",
       "0  202300000001  155 680 557     A01     1    30    0     0     5     1   \n",
       "1  202300000002  155 680 556     A01     2     7    0     1     1     1   \n",
       "\n",
       "   motor  occutc  \n",
       "0      1     NaN  \n",
       "1      1     NaN  "
      ]
     },
     "execution_count": 12,
     "metadata": {},
     "output_type": "execute_result"
    }
   ],
   "source": [
    "df_veh = pd.read_csv(\"vehicules.csv\", delimiter=\";\")\n",
    "df_veh.head(2)"
   ]
  },
  {
   "cell_type": "code",
   "execution_count": 14,
   "metadata": {},
   "outputs": [
    {
     "data": {
      "text/plain": [
       "Num_Acc           0\n",
       "id_usager         0\n",
       "id_vehicule       0\n",
       "num_veh           0\n",
       "place             0\n",
       "catu              0\n",
       "grav              0\n",
       "sexe              0\n",
       "an_nais        2598\n",
       "trajet            0\n",
       "secu1             0\n",
       "secu2             0\n",
       "secu3             0\n",
       "locp              0\n",
       "actp              0\n",
       "etatp             0\n",
       "dtype: int64"
      ]
     },
     "execution_count": 14,
     "metadata": {},
     "output_type": "execute_result"
    }
   ],
   "source": [
    "df_usag.isna().sum()"
   ]
  },
  {
   "cell_type": "code",
   "execution_count": 15,
   "metadata": {},
   "outputs": [
    {
     "data": {
      "text/plain": [
       "Num_Acc            0\n",
       "id_vehicule        0\n",
       "num_veh            0\n",
       "senc               0\n",
       "catv               0\n",
       "obs                0\n",
       "obsm               0\n",
       "choc               0\n",
       "manv               0\n",
       "motor              0\n",
       "occutc         92747\n",
       "dtype: int64"
      ]
     },
     "execution_count": 15,
     "metadata": {},
     "output_type": "execute_result"
    }
   ],
   "source": [
    "df_veh.isna().sum()"
   ]
  },
  {
   "cell_type": "code",
   "execution_count": 19,
   "metadata": {},
   "outputs": [
    {
     "name": "stdout",
     "output_type": "stream",
     "text": [
      "shape of usagers' base :  (125789, 16)\n",
      "shape of vehicule's base :  (93585, 11)\n"
     ]
    }
   ],
   "source": [
    "print(\"shape of usagers' base : \", df_usag.shape)\n",
    "print(\"shape of vehicule's base : \", df_veh.shape)"
   ]
  },
  {
   "cell_type": "code",
   "execution_count": null,
   "metadata": {},
   "outputs": [],
   "source": []
  }
 ],
 "metadata": {
  "kernelspec": {
   "display_name": "Python 3",
   "language": "python",
   "name": "python3"
  },
  "language_info": {
   "codemirror_mode": {
    "name": "ipython",
    "version": 3
   },
   "file_extension": ".py",
   "mimetype": "text/x-python",
   "name": "python",
   "nbconvert_exporter": "python",
   "pygments_lexer": "ipython3",
   "version": "3.13.0"
  }
 },
 "nbformat": 4,
 "nbformat_minor": 2
}
